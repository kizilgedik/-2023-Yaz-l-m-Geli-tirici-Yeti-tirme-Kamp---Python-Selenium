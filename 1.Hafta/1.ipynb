{
 "cells": [
  {
   "cell_type": "markdown",
   "id": "93f9a27d",
   "metadata": {},
   "source": [
    "### ÖDEV-1"
   ]
  },
  {
   "cell_type": "markdown",
   "id": "b8909128",
   "metadata": {},
   "source": [
    "Python'da Veri Tiplerini araştırınız, her bir veri tipi için kendi cümlelerinizle açıklamalar yazınız.\n",
    "\n",
    "Kodlama.io sitesinde değişken olarak kullanıldığını düşündüğünüz verileri, veri tipleriyle birlikte örneklendiriniz."
   ]
  },
  {
   "cell_type": "markdown",
   "id": "1d3bf967",
   "metadata": {},
   "source": [
    "### Pythonda Kullanılan Temel Veri Tipleri şunlardır;"
   ]
  },
  {
   "cell_type": "markdown",
   "id": "a40b68c9",
   "metadata": {},
   "source": [
    "    integer (tam sayılar)\n",
    "    float (ondalıklı sayılar)\n",
    "    boolean (True/False)\n",
    "    string (metin)\n",
    "    list (liste)\n",
    "    tuple (demet)\n",
    "    set (küme)\n",
    "    dictionary (sözlük)"
   ]
  },
  {
   "cell_type": "markdown",
   "id": "5e880fcb",
   "metadata": {},
   "source": [
    "integer= Tam sayıları tanımlamak için kullanılır. Örnek kullanım şu şekildedir;"
   ]
  },
  {
   "cell_type": "code",
   "execution_count": 13,
   "id": "476090f9",
   "metadata": {},
   "outputs": [],
   "source": [
    "a=15"
   ]
  },
  {
   "cell_type": "markdown",
   "id": "45fa08db",
   "metadata": {},
   "source": [
    "float, türkçe ismiyle ondaklı sayı yada kayan noktalı sayıları tanımlamak için kullanılır.(Virgülle kullanılır) Örnek kullanımı şu şekildedir;"
   ]
  },
  {
   "cell_type": "code",
   "execution_count": 10,
   "id": "b80c009c",
   "metadata": {},
   "outputs": [],
   "source": [
    "b=1.15"
   ]
  },
  {
   "cell_type": "markdown",
   "id": "e2d92560",
   "metadata": {},
   "source": [
    "boolean, mantıksal bir veri tipidir.True yada false değeri alabilir, aytıca 1 ve 0 olarakta gösterilebilir.\n",
    "1-> True, 0->False değerini ifade eder."
   ]
  },
  {
   "cell_type": "code",
   "execution_count": null,
   "id": "f643cd3d",
   "metadata": {},
   "outputs": [],
   "source": [
    "c=True"
   ]
  },
  {
   "cell_type": "markdown",
   "id": "ac966c83",
   "metadata": {},
   "source": [
    "string, metinsel ifadeleri belirtmek için kullanılır, iki tırnak arasına yazılır. Örnek kullanım şu şekildedir;"
   ]
  },
  {
   "cell_type": "code",
   "execution_count": 2,
   "id": "11e394d2",
   "metadata": {},
   "outputs": [],
   "source": [
    "\"Merhaba dünya\"\n",
    "d=\"merhaba dünya\" #yada d değişkenine atayabiliriz.\n",
    " "
   ]
  },
  {
   "cell_type": "markdown",
   "id": "e36d8c38",
   "metadata": {},
   "source": [
    "Liste veri tipi, bir veya daha fazla veri elemanını içeren, değiştirilebilir, sıralı bir veri yapısıdır"
   ]
  },
  {
   "cell_type": "code",
   "execution_count": 3,
   "id": "4aabdc10",
   "metadata": {},
   "outputs": [],
   "source": [
    "my_list = [1, 2, 3, \"dört\", 5.0]"
   ]
  },
  {
   "cell_type": "markdown",
   "id": "eebb0697",
   "metadata": {},
   "source": [
    "set veri tipi birden fazla veri tutmak için kullanılabilir, fakat her eleman bir kez kullanılabilir ve değiştirilebilir.\n",
    "\n"
   ]
  },
  {
   "cell_type": "code",
   "execution_count": 5,
   "id": "5445c0a5",
   "metadata": {},
   "outputs": [],
   "source": [
    "my_set = {1, 2, 3, 4, 5}"
   ]
  },
  {
   "cell_type": "markdown",
   "id": "9a69af41",
   "metadata": {},
   "source": [
    "turple, değiştirilemeyen veri tipidir. Birden fazla elemanı bir arada tutmak için kullanılır."
   ]
  },
  {
   "cell_type": "code",
   "execution_count": 6,
   "id": "7d9d14f0",
   "metadata": {},
   "outputs": [],
   "source": [
    "my_tuple = (1, \"iki\", 3.0)"
   ]
  },
  {
   "cell_type": "markdown",
   "id": "14bec025",
   "metadata": {},
   "source": [
    "dictionary veri tipi, anahtar-değer çiftlerinden oluşan bir koleksiyondur. Her anahtar, bir değerle eşleştirilir\n",
    "ve bu değere erişmek için anahtar kullanılır.Dictionary, {} süslü parantezler içinde anahtar ve değer çiftleriyle \n",
    "tanımlanır"
   ]
  },
  {
   "cell_type": "code",
   "execution_count": 7,
   "id": "673af0d3",
   "metadata": {},
   "outputs": [],
   "source": [
    "my_ditionary = {\"bir\": 1, \"iki\": 2, \"üç\": 3}"
   ]
  },
  {
   "cell_type": "markdown",
   "id": "91d1bf59",
   "metadata": {},
   "source": [
    "##### Kodlama.io sitesinde değişken olarak kullanıldığını düşündüğünüz verileri, veri tipleriyle birlikte örneklendiriniz."
   ]
  },
  {
   "cell_type": "code",
   "execution_count": null,
   "id": "0b1b418c",
   "metadata": {},
   "outputs": [],
   "source": [
    "string örneği: Kurs isimleri ve açıklamaları\n",
    "integer örneği:Yorum sayısı, kursların tamamlanma oranı.\n",
    "\n"
   ]
  },
  {
   "cell_type": "markdown",
   "id": "a35b86b1",
   "metadata": {},
   "source": [
    "##### Kodlama.io sitesinde şart blokları kullanıldığını düşündüğünüz kısımları örneklendiriniz ve Python dilinde bu örnekleri koda dökünüz"
   ]
  },
  {
   "cell_type": "markdown",
   "id": "ec62a16e",
   "metadata": {},
   "source": [
    "Log in kısmından örnek vericek olursak;\n"
   ]
  },
  {
   "cell_type": "code",
   "execution_count": 1,
   "id": "d71412d8",
   "metadata": {},
   "outputs": [
    {
     "name": "stdout",
     "output_type": "stream",
     "text": [
      "Lütfen emailinizi giriniz:kişi1@gmail.com\n",
      "Lütfen şifrenizi giriniz:wqfage\n",
      "Lütfen doğru şifre girdiğinizden emin olun!\n"
     ]
    }
   ],
   "source": [
    "email=input(\"Lütfen emailinizi giriniz:\")\n",
    "password=input(\"Lütfen şifrenizi giriniz:\")\n",
    "\n",
    "#kişinin emailinin k1_email ve şifresinin k1_password ile daha önce tutulduğunu varsayalım.\n",
    "\n",
    "k1_email=\"kişi1@gmail.com\"\n",
    "k1_password=\"123456789\"\n",
    "\n",
    "if email!=k1_email:\n",
    "    print(\"Lütfen doğru emaili giriniz!\")\n",
    "    \n",
    "\n",
    "if password!=k1_password:\n",
    "    print(\"Lütfen doğru şifre girdiğinizden emin olun!\")\n",
    "    \n",
    "else:\n",
    "    print(\"Sisteme hoş geldiniz!!!\")\n",
    "\n",
    "    "
   ]
  },
  {
   "cell_type": "code",
   "execution_count": null,
   "id": "e19adaad",
   "metadata": {},
   "outputs": [],
   "source": []
  }
 ],
 "metadata": {
  "kernelspec": {
   "display_name": "Python 3 (ipykernel)",
   "language": "python",
   "name": "python3"
  },
  "language_info": {
   "codemirror_mode": {
    "name": "ipython",
    "version": 3
   },
   "file_extension": ".py",
   "mimetype": "text/x-python",
   "name": "python",
   "nbconvert_exporter": "python",
   "pygments_lexer": "ipython3",
   "version": "3.10.2"
  }
 },
 "nbformat": 4,
 "nbformat_minor": 5
}
